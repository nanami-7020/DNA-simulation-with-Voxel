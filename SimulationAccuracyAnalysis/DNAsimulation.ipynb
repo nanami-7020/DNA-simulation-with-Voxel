{
 "cells": [
  {
   "cell_type": "markdown",
   "metadata": {},
   "source": [
    "# 10000stepの10回分の平均座標からドット積を求める"
   ]
  },
  {
   "cell_type": "markdown",
   "metadata": {},
   "source": [
    "### モジュールのインストール"
   ]
  },
  {
   "cell_type": "code",
   "execution_count": 1,
   "metadata": {},
   "outputs": [
    {
     "data": {
      "text/html": [
       "<div id=\"glowscript\" class=\"glowscript\"></div>"
      ],
      "text/plain": [
       "<IPython.core.display.HTML object>"
      ]
     },
     "metadata": {},
     "output_type": "display_data"
    },
    {
     "data": {
      "application/javascript": [
       "if (typeof Jupyter !== \"undefined\") { window.__context = { glowscript_container: $(\"#glowscript\").removeAttr(\"id\")};}else{ element.textContent = ' ';}"
      ],
      "text/plain": [
       "<IPython.core.display.Javascript object>"
      ]
     },
     "metadata": {},
     "output_type": "display_data"
    }
   ],
   "source": [
    "#from vpython import *\n",
    "#GlowScript 3.0 VPython\n",
    "import vpython as vp\n",
    "import pandas as pd\n",
    "import matplotlib.cm as cm\n",
    "import matplotlib.pyplot as plt\n",
    "import math\n",
    "import numpy as np\n",
    "import csv\n",
    "import scipy as sp\n",
    "from scipy.optimize import curve_fit\n",
    "import math\n",
    "import numexpr as ne"
   ]
  },
  {
   "cell_type": "markdown",
   "metadata": {},
   "source": [
    "### キャプションの追加"
   ]
  },
  {
   "cell_type": "code",
   "execution_count": 2,
   "metadata": {},
   "outputs": [],
   "source": [
    "vp.scene.caption = \"\"\"<b>3D text can be \"billboard\" text -- always facing you.</b>\n",
    "Note that the \"Regular text\" has different colors on the front, back and sides.\n",
    "To rotate \"camera\", drag with right button or Ctrl-drag.\n",
    "To zoom, drag with middle button or Alt/Option depressed, or use scroll wheel.\n",
    "  On a two-button mouse, middle is left + right.\n",
    "To pan left/right and up/down, Shift-drag.\n",
    "Touch screen: pinch/extend to zoom, swipe or two-finger rotate.\"\"\"\n",
    "   \n",
    "vp.scene.background = vp.color.white"
   ]
  },
  {
   "cell_type": "markdown",
   "metadata": {},
   "source": [
    "### 座標に名前をつける"
   ]
  },
  {
   "cell_type": "code",
   "execution_count": 3,
   "metadata": {},
   "outputs": [],
   "source": [
    "names = ['step']\n",
    "for i in range(1,12):\n",
    "    names+=['x'+str(i),'y'+str(i),'z'+str(i)]\n",
    "#print(names)\n",
    "data = pd.read_csv(\"my_output.txt\",sep=\" \",index_col=0,header = None,names=names )\n",
    "\n",
    "#index_col=0 →indexとして使いたい列の列番号を0始まりで指定する。\n",
    "#特定の列だけを読み込む場合、引数usecolsを使う。\n",
    "#カラム名を指定したいときはnames引数で指定\n",
    "#csvファイルの中身を読み込んだDataFrameまたはテキストパーサーが返される。"
   ]
  },
  {
   "cell_type": "markdown",
   "metadata": {},
   "source": [
    "## timestepが10000における10回分の平均座標を求める"
   ]
  },
  {
   "cell_type": "markdown",
   "metadata": {},
   "source": [
    "### 読み込んだデータの確認"
   ]
  },
  {
   "cell_type": "code",
   "execution_count": 4,
   "metadata": {},
   "outputs": [
    {
     "name": "stdout",
     "output_type": "stream",
     "text": [
      "         x1  y1  z1        x2  y2        z2        x3  y3        z3        x4  \\\n",
      "step                                                                            \n",
      "0     0.005   0   0  0.010000   0  0.000000  0.015000   0  0.000000  0.020000   \n",
      "1000  0.005   0   0  0.009973   0  0.000901  0.014561   0  0.003060  0.018766   \n",
      "2000  0.005   0   0  0.009896   0  0.000782  0.014352   0  0.002943  0.018083   \n",
      "3000  0.005   0   0  0.009915   0  0.000463  0.014716   0  0.001660  0.019461   \n",
      "4000  0.005   0   0  0.009967   0 -0.000152  0.014827   0 -0.001094  0.019198   \n",
      "...     ...  ..  ..       ...  ..       ...       ...  ..       ...       ...   \n",
      "6000  0.005   0   0  0.010013   0 -0.001144  0.014433   0 -0.003819  0.018389   \n",
      "7000  0.005   0   0  0.009806   0 -0.001237  0.013619   0 -0.004477  0.016120   \n",
      "8000  0.005   0   0  0.010039   0  0.000772  0.014798   0  0.002574  0.019174   \n",
      "9000  0.005   0   0  0.009867   0  0.001030  0.013796   0  0.004057  0.015984   \n",
      "9999  0.005   0   0  0.009698   0 -0.001818  0.012941   0 -0.005735  0.015040   \n",
      "\n",
      "      ...        z8        x9  y9        z9       x10  y10       z10  \\\n",
      "step  ...                                                              \n",
      "0     ...  0.000000  0.045000   0  0.000000  0.050000    0  0.000000   \n",
      "1000  ...  0.020117  0.036078   0  0.024241  0.038787    0  0.028491   \n",
      "2000  ...  0.024634  0.023407   0  0.029560  0.022373    0  0.034380   \n",
      "3000  ...  0.000228  0.042181   0 -0.002893  0.045891    0 -0.006254   \n",
      "4000  ... -0.021528  0.019012   0 -0.025592  0.015407    0 -0.029036   \n",
      "...   ...       ...       ...  ..       ...       ...  ...       ...   \n",
      "6000  ... -0.018941  0.039804   0 -0.021185  0.044362    0 -0.023396   \n",
      "7000  ... -0.028423  0.012329   0 -0.032667  0.009005    0 -0.036456   \n",
      "8000  ...  0.018499  0.038881   0  0.021308  0.043348    0  0.023707   \n",
      "9000  ...  0.026904  0.006741   0  0.030762  0.003381    0  0.034450   \n",
      "9999  ... -0.030212  0.019549   0 -0.035223  0.019898    0 -0.040209   \n",
      "\n",
      "           x11  y11       z11  \n",
      "step                           \n",
      "0     0.055000    0  0.000000  \n",
      "1000  0.041391    0  0.032791  \n",
      "2000  0.021156    0  0.039213  \n",
      "3000  0.049648    0 -0.009564  \n",
      "4000  0.011488    0 -0.032145  \n",
      "...        ...  ...       ...  \n",
      "6000  0.048839    0 -0.025694  \n",
      "7000  0.005383    0 -0.039939  \n",
      "8000  0.047883    0  0.025918  \n",
      "9000 -0.000023    0  0.038139  \n",
      "9999  0.020219    0 -0.045176  \n",
      "\n",
      "[110 rows x 33 columns]\n"
     ]
    }
   ],
   "source": [
    "data\n",
    "print(data)"
   ]
  },
  {
   "cell_type": "markdown",
   "metadata": {},
   "source": [
    "### タイムステップが9999のときだけ取り出す"
   ]
  },
  {
   "cell_type": "code",
   "execution_count": 5,
   "metadata": {},
   "outputs": [
    {
     "data": {
      "text/html": [
       "<div>\n",
       "<style scoped>\n",
       "    .dataframe tbody tr th:only-of-type {\n",
       "        vertical-align: middle;\n",
       "    }\n",
       "\n",
       "    .dataframe tbody tr th {\n",
       "        vertical-align: top;\n",
       "    }\n",
       "\n",
       "    .dataframe thead th {\n",
       "        text-align: right;\n",
       "    }\n",
       "</style>\n",
       "<table border=\"1\" class=\"dataframe\">\n",
       "  <thead>\n",
       "    <tr style=\"text-align: right;\">\n",
       "      <th></th>\n",
       "      <th>x1</th>\n",
       "      <th>y1</th>\n",
       "      <th>z1</th>\n",
       "      <th>x2</th>\n",
       "      <th>y2</th>\n",
       "      <th>z2</th>\n",
       "      <th>x3</th>\n",
       "      <th>y3</th>\n",
       "      <th>z3</th>\n",
       "      <th>x4</th>\n",
       "      <th>...</th>\n",
       "      <th>z8</th>\n",
       "      <th>x9</th>\n",
       "      <th>y9</th>\n",
       "      <th>z9</th>\n",
       "      <th>x10</th>\n",
       "      <th>y10</th>\n",
       "      <th>z10</th>\n",
       "      <th>x11</th>\n",
       "      <th>y11</th>\n",
       "      <th>z11</th>\n",
       "    </tr>\n",
       "    <tr>\n",
       "      <th>step</th>\n",
       "      <th></th>\n",
       "      <th></th>\n",
       "      <th></th>\n",
       "      <th></th>\n",
       "      <th></th>\n",
       "      <th></th>\n",
       "      <th></th>\n",
       "      <th></th>\n",
       "      <th></th>\n",
       "      <th></th>\n",
       "      <th></th>\n",
       "      <th></th>\n",
       "      <th></th>\n",
       "      <th></th>\n",
       "      <th></th>\n",
       "      <th></th>\n",
       "      <th></th>\n",
       "      <th></th>\n",
       "      <th></th>\n",
       "      <th></th>\n",
       "      <th></th>\n",
       "    </tr>\n",
       "  </thead>\n",
       "  <tbody>\n",
       "    <tr>\n",
       "      <th>9999</th>\n",
       "      <td>0.005</td>\n",
       "      <td>0</td>\n",
       "      <td>0</td>\n",
       "      <td>0.009895</td>\n",
       "      <td>0</td>\n",
       "      <td>0.000778</td>\n",
       "      <td>0.014216</td>\n",
       "      <td>0</td>\n",
       "      <td>0.003224</td>\n",
       "      <td>0.017362</td>\n",
       "      <td>...</td>\n",
       "      <td>0.025978</td>\n",
       "      <td>0.012971</td>\n",
       "      <td>0</td>\n",
       "      <td>0.030098</td>\n",
       "      <td>0.009940</td>\n",
       "      <td>0</td>\n",
       "      <td>0.034114</td>\n",
       "      <td>0.006873</td>\n",
       "      <td>0</td>\n",
       "      <td>0.038118</td>\n",
       "    </tr>\n",
       "    <tr>\n",
       "      <th>9999</th>\n",
       "      <td>0.005</td>\n",
       "      <td>0</td>\n",
       "      <td>0</td>\n",
       "      <td>0.010161</td>\n",
       "      <td>0</td>\n",
       "      <td>0.000574</td>\n",
       "      <td>0.015256</td>\n",
       "      <td>0</td>\n",
       "      <td>0.001558</td>\n",
       "      <td>0.020395</td>\n",
       "      <td>...</td>\n",
       "      <td>-0.000470</td>\n",
       "      <td>0.046009</td>\n",
       "      <td>0</td>\n",
       "      <td>-0.000574</td>\n",
       "      <td>0.051051</td>\n",
       "      <td>0</td>\n",
       "      <td>0.000176</td>\n",
       "      <td>0.055960</td>\n",
       "      <td>0</td>\n",
       "      <td>0.001385</td>\n",
       "    </tr>\n",
       "    <tr>\n",
       "      <th>9999</th>\n",
       "      <td>0.005</td>\n",
       "      <td>0</td>\n",
       "      <td>0</td>\n",
       "      <td>0.009829</td>\n",
       "      <td>0</td>\n",
       "      <td>0.000739</td>\n",
       "      <td>0.013795</td>\n",
       "      <td>0</td>\n",
       "      <td>0.003577</td>\n",
       "      <td>0.015678</td>\n",
       "      <td>...</td>\n",
       "      <td>0.026051</td>\n",
       "      <td>0.005142</td>\n",
       "      <td>0</td>\n",
       "      <td>0.030271</td>\n",
       "      <td>0.002405</td>\n",
       "      <td>0</td>\n",
       "      <td>0.034518</td>\n",
       "      <td>-0.000322</td>\n",
       "      <td>0</td>\n",
       "      <td>0.038727</td>\n",
       "    </tr>\n",
       "    <tr>\n",
       "      <th>9999</th>\n",
       "      <td>0.005</td>\n",
       "      <td>0</td>\n",
       "      <td>0</td>\n",
       "      <td>0.010039</td>\n",
       "      <td>0</td>\n",
       "      <td>-0.000016</td>\n",
       "      <td>0.015073</td>\n",
       "      <td>0</td>\n",
       "      <td>0.000147</td>\n",
       "      <td>0.020077</td>\n",
       "      <td>...</td>\n",
       "      <td>0.008166</td>\n",
       "      <td>0.043000</td>\n",
       "      <td>0</td>\n",
       "      <td>0.010571</td>\n",
       "      <td>0.047337</td>\n",
       "      <td>0</td>\n",
       "      <td>0.013052</td>\n",
       "      <td>0.051608</td>\n",
       "      <td>0</td>\n",
       "      <td>0.015650</td>\n",
       "    </tr>\n",
       "    <tr>\n",
       "      <th>9999</th>\n",
       "      <td>0.005</td>\n",
       "      <td>0</td>\n",
       "      <td>0</td>\n",
       "      <td>0.009987</td>\n",
       "      <td>0</td>\n",
       "      <td>-0.000455</td>\n",
       "      <td>0.014851</td>\n",
       "      <td>0</td>\n",
       "      <td>-0.001665</td>\n",
       "      <td>0.019586</td>\n",
       "      <td>...</td>\n",
       "      <td>-0.005298</td>\n",
       "      <td>0.043992</td>\n",
       "      <td>0</td>\n",
       "      <td>-0.004200</td>\n",
       "      <td>0.048849</td>\n",
       "      <td>0</td>\n",
       "      <td>-0.002990</td>\n",
       "      <td>0.053681</td>\n",
       "      <td>0</td>\n",
       "      <td>-0.001644</td>\n",
       "    </tr>\n",
       "    <tr>\n",
       "      <th>9999</th>\n",
       "      <td>0.005</td>\n",
       "      <td>0</td>\n",
       "      <td>0</td>\n",
       "      <td>0.009890</td>\n",
       "      <td>0</td>\n",
       "      <td>-0.001179</td>\n",
       "      <td>0.014077</td>\n",
       "      <td>0</td>\n",
       "      <td>-0.004023</td>\n",
       "      <td>0.017665</td>\n",
       "      <td>...</td>\n",
       "      <td>-0.022484</td>\n",
       "      <td>0.034876</td>\n",
       "      <td>0</td>\n",
       "      <td>-0.025970</td>\n",
       "      <td>0.038628</td>\n",
       "      <td>0</td>\n",
       "      <td>-0.029348</td>\n",
       "      <td>0.042459</td>\n",
       "      <td>0</td>\n",
       "      <td>-0.032605</td>\n",
       "    </tr>\n",
       "    <tr>\n",
       "      <th>9999</th>\n",
       "      <td>0.005</td>\n",
       "      <td>0</td>\n",
       "      <td>0</td>\n",
       "      <td>0.010004</td>\n",
       "      <td>0</td>\n",
       "      <td>0.001107</td>\n",
       "      <td>0.014419</td>\n",
       "      <td>0</td>\n",
       "      <td>0.003751</td>\n",
       "      <td>0.018161</td>\n",
       "      <td>...</td>\n",
       "      <td>0.025331</td>\n",
       "      <td>0.029845</td>\n",
       "      <td>0</td>\n",
       "      <td>0.030053</td>\n",
       "      <td>0.031645</td>\n",
       "      <td>0</td>\n",
       "      <td>0.034776</td>\n",
       "      <td>0.033440</td>\n",
       "      <td>0</td>\n",
       "      <td>0.039474</td>\n",
       "    </tr>\n",
       "    <tr>\n",
       "      <th>9999</th>\n",
       "      <td>0.005</td>\n",
       "      <td>0</td>\n",
       "      <td>0</td>\n",
       "      <td>0.009606</td>\n",
       "      <td>0</td>\n",
       "      <td>-0.001929</td>\n",
       "      <td>0.012400</td>\n",
       "      <td>0</td>\n",
       "      <td>-0.006153</td>\n",
       "      <td>0.013642</td>\n",
       "      <td>...</td>\n",
       "      <td>-0.031635</td>\n",
       "      <td>0.014116</td>\n",
       "      <td>0</td>\n",
       "      <td>-0.036728</td>\n",
       "      <td>0.014157</td>\n",
       "      <td>0</td>\n",
       "      <td>-0.041789</td>\n",
       "      <td>0.014183</td>\n",
       "      <td>0</td>\n",
       "      <td>-0.046870</td>\n",
       "    </tr>\n",
       "    <tr>\n",
       "      <th>9999</th>\n",
       "      <td>0.005</td>\n",
       "      <td>0</td>\n",
       "      <td>0</td>\n",
       "      <td>0.009944</td>\n",
       "      <td>0</td>\n",
       "      <td>-0.000373</td>\n",
       "      <td>0.014596</td>\n",
       "      <td>0</td>\n",
       "      <td>-0.002034</td>\n",
       "      <td>0.018160</td>\n",
       "      <td>...</td>\n",
       "      <td>-0.023677</td>\n",
       "      <td>0.011018</td>\n",
       "      <td>0</td>\n",
       "      <td>-0.027652</td>\n",
       "      <td>0.007924</td>\n",
       "      <td>0</td>\n",
       "      <td>-0.031611</td>\n",
       "      <td>0.004841</td>\n",
       "      <td>0</td>\n",
       "      <td>-0.035542</td>\n",
       "    </tr>\n",
       "    <tr>\n",
       "      <th>9999</th>\n",
       "      <td>0.005</td>\n",
       "      <td>0</td>\n",
       "      <td>0</td>\n",
       "      <td>0.009698</td>\n",
       "      <td>0</td>\n",
       "      <td>-0.001818</td>\n",
       "      <td>0.012941</td>\n",
       "      <td>0</td>\n",
       "      <td>-0.005735</td>\n",
       "      <td>0.015040</td>\n",
       "      <td>...</td>\n",
       "      <td>-0.030212</td>\n",
       "      <td>0.019549</td>\n",
       "      <td>0</td>\n",
       "      <td>-0.035223</td>\n",
       "      <td>0.019898</td>\n",
       "      <td>0</td>\n",
       "      <td>-0.040209</td>\n",
       "      <td>0.020219</td>\n",
       "      <td>0</td>\n",
       "      <td>-0.045176</td>\n",
       "    </tr>\n",
       "  </tbody>\n",
       "</table>\n",
       "<p>10 rows × 33 columns</p>\n",
       "</div>"
      ],
      "text/plain": [
       "         x1  y1  z1        x2  y2        z2        x3  y3        z3        x4  \\\n",
       "step                                                                            \n",
       "9999  0.005   0   0  0.009895   0  0.000778  0.014216   0  0.003224  0.017362   \n",
       "9999  0.005   0   0  0.010161   0  0.000574  0.015256   0  0.001558  0.020395   \n",
       "9999  0.005   0   0  0.009829   0  0.000739  0.013795   0  0.003577  0.015678   \n",
       "9999  0.005   0   0  0.010039   0 -0.000016  0.015073   0  0.000147  0.020077   \n",
       "9999  0.005   0   0  0.009987   0 -0.000455  0.014851   0 -0.001665  0.019586   \n",
       "9999  0.005   0   0  0.009890   0 -0.001179  0.014077   0 -0.004023  0.017665   \n",
       "9999  0.005   0   0  0.010004   0  0.001107  0.014419   0  0.003751  0.018161   \n",
       "9999  0.005   0   0  0.009606   0 -0.001929  0.012400   0 -0.006153  0.013642   \n",
       "9999  0.005   0   0  0.009944   0 -0.000373  0.014596   0 -0.002034  0.018160   \n",
       "9999  0.005   0   0  0.009698   0 -0.001818  0.012941   0 -0.005735  0.015040   \n",
       "\n",
       "      ...        z8        x9  y9        z9       x10  y10       z10  \\\n",
       "step  ...                                                              \n",
       "9999  ...  0.025978  0.012971   0  0.030098  0.009940    0  0.034114   \n",
       "9999  ... -0.000470  0.046009   0 -0.000574  0.051051    0  0.000176   \n",
       "9999  ...  0.026051  0.005142   0  0.030271  0.002405    0  0.034518   \n",
       "9999  ...  0.008166  0.043000   0  0.010571  0.047337    0  0.013052   \n",
       "9999  ... -0.005298  0.043992   0 -0.004200  0.048849    0 -0.002990   \n",
       "9999  ... -0.022484  0.034876   0 -0.025970  0.038628    0 -0.029348   \n",
       "9999  ...  0.025331  0.029845   0  0.030053  0.031645    0  0.034776   \n",
       "9999  ... -0.031635  0.014116   0 -0.036728  0.014157    0 -0.041789   \n",
       "9999  ... -0.023677  0.011018   0 -0.027652  0.007924    0 -0.031611   \n",
       "9999  ... -0.030212  0.019549   0 -0.035223  0.019898    0 -0.040209   \n",
       "\n",
       "           x11  y11       z11  \n",
       "step                           \n",
       "9999  0.006873    0  0.038118  \n",
       "9999  0.055960    0  0.001385  \n",
       "9999 -0.000322    0  0.038727  \n",
       "9999  0.051608    0  0.015650  \n",
       "9999  0.053681    0 -0.001644  \n",
       "9999  0.042459    0 -0.032605  \n",
       "9999  0.033440    0  0.039474  \n",
       "9999  0.014183    0 -0.046870  \n",
       "9999  0.004841    0 -0.035542  \n",
       "9999  0.020219    0 -0.045176  \n",
       "\n",
       "[10 rows x 33 columns]"
      ]
     },
     "execution_count": 5,
     "metadata": {},
     "output_type": "execute_result"
    }
   ],
   "source": [
    "data.loc[9999]\n",
    "#loc：行と列のラベル名を指定して1つの要素、もしくは範囲を指定して複数の要素を参照する"
   ]
  },
  {
   "cell_type": "markdown",
   "metadata": {},
   "source": [
    "### ドット積を求める"
   ]
  },
  {
   "cell_type": "code",
   "execution_count": 6,
   "metadata": {},
   "outputs": [],
   "source": [
    "all_products = []\n",
    "for line in data.loc[9999].to_numpy():\n",
    "    temp = []\n",
    "    x0 = line[3:6]-line[0:3]\n",
    "    x0 /= np.linalg.norm(x0)\n",
    "    for index in range(int(len(line)/3)-1):\n",
    "        xn = line[index*3+3:index*3+6]-line[index*3:index*3+3]\n",
    "        xn /= np.linalg.norm(xn) #numpy.linalg.norm(x) xはノルムの値を求めるための入力配列\n",
    "        temp.append(np.dot(x0,xn)) #np.dot ベクトルの内積を求める\n",
    "    all_products.append(temp)\n",
    "all_products = np.array(all_products)"
   ]
  },
  {
   "cell_type": "code",
   "execution_count": 7,
   "metadata": {},
   "outputs": [],
   "source": [
    "avg = all_products.sum(axis=0)/10.0 \n",
    "#np.sum(axis = NONE):ndarrayの全要素を足し合わせる\n",
    "#axis:どの軸方向に要素を足し合わせていくかを指定。Noneの時は全ての要素を足し合わせる。"
   ]
  },
  {
   "cell_type": "code",
   "execution_count": 8,
   "metadata": {},
   "outputs": [
    {
     "name": "stdout",
     "output_type": "stream",
     "text": [
      "[1.         0.9365852  0.80249803 0.65174627 0.5225915  0.43513224\n",
      " 0.38659621 0.36779716 0.36248794 0.35905018]\n",
      "1.0\n",
      "0.3590501797614106\n"
     ]
    }
   ],
   "source": [
    "print(avg)\n",
    "print(avg[0])\n",
    "print(avg[9])"
   ]
  },
  {
   "cell_type": "code",
   "execution_count": 9,
   "metadata": {},
   "outputs": [
    {
     "data": {
      "image/png": "[encoded data removed]",
      "text/plain": [
       "<Figure size 432x288 with 1 Axes>"
      ]
     },
     "metadata": {
      "needs_background": "light"
     },
     "output_type": "display_data"
    }
   ],
   "source": [
    "plt.plot(avg)\n",
    "#plt.yscale('log')\n",
    "plt.show()"
   ]
  },
  {
   "cell_type": "markdown",
   "metadata": {},
   "source": [
    "### ドット積の結果をファイルに出力し、読み込む"
   ]
  },
  {
   "cell_type": "code",
   "execution_count": 10,
   "metadata": {},
   "outputs": [],
   "source": [
    "with open(\"dot_average.txt\", mode='w') as f:\n",
    "    for num in range(10):       \n",
    "        f.write(str(num) + \" \" + str(avg[num])+ \"\\n\")\n",
    "f.close()\n",
    "data2 = pd.read_csv(\"dot_average.txt\",sep = \" \",header = None, index_col = 0)"
   ]
  },
  {
   "cell_type": "markdown",
   "metadata": {},
   "source": [
    "### 持続長の定義"
   ]
  },
  {
   "cell_type": "code",
   "execution_count": 11,
   "metadata": {},
   "outputs": [],
   "source": [
    "def exponential(x,a,b):\n",
    "    return a*np.exp(-x / b)"
   ]
  },
  {
   "cell_type": "markdown",
   "metadata": {},
   "source": [
    "### シミュレーション結果を用いて、持続長の公式における最適な係数を求める"
   ]
  },
  {
   "cell_type": "code",
   "execution_count": 12,
   "metadata": {},
   "outputs": [
    {
     "name": "stdout",
     "output_type": "stream",
     "text": [
      "1.0225958401066477\n",
      "6.914429862724023\n"
     ]
    }
   ],
   "source": [
    "popt, pcov = curve_fit(exponential, data2.index.to_numpy(), data2[1])\n",
    "#poptは最適推定値、pcovは共分散\n",
    "#curve_fit(f, xdata, ydata, p0=None, sigma=None, absolute_sigma=False, check_finite=True, bounds=- inf, inf, method=None, jac=None, **kwargs)\n",
    "print(popt[0]) #aの値\n",
    "print(popt[1]) #bの値"
   ]
  },
  {
   "cell_type": "code",
   "execution_count": 13,
   "metadata": {
    "scrolled": true
   },
   "outputs": [
    {
     "data": {
      "image/png": "[encoded data removed]",
      "text/plain": [
       "<Figure size 432x288 with 1 Axes>"
      ]
     },
     "metadata": {
      "needs_background": "light"
     },
     "output_type": "display_data"
    }
   ],
   "source": [
    "fig = plt.figure()\n",
    "ax = fig.add_subplot(111, xlabel='k', ylabel='<nkn0>')\n",
    "\n",
    "ax.plot(data2[1], \"r\", label = \"Simulation data\")\n",
    "ax.plot(exponential(data2.index.to_numpy(),*popt), \"b\", label = \"Exponential fit: \" + str(round(popt[0],2)) + \"exp(-k/\" + str(round(popt[1],2))+ \")\")\n",
    "ax.plot(xlabel='k', ylabel='$<n_k$・$n_0>$')\n",
    "ax.legend(bbox_to_anchor=(1, 1), loc='upper right', borderaxespad=0, fontsize=10)\n",
    "fig.savefig('persistence_sample.png')"
   ]
  },
  {
   "cell_type": "markdown",
   "metadata": {},
   "source": [
    "### ボクセル の表示"
   ]
  },
  {
   "cell_type": "code",
   "execution_count": 14,
   "metadata": {},
   "outputs": [
    {
     "data": {
      "application/javascript": [
       "if (typeof Jupyter !== \"undefined\") {require.undef(\"nbextensions/vpython_libraries/glow.min\");}else{element.textContent = ' ';}"
      ],
      "text/plain": [
       "<IPython.core.display.Javascript object>"
      ]
     },
     "metadata": {},
     "output_type": "display_data"
    },
    {
     "data": {
      "application/javascript": [
       "if (typeof Jupyter !== \"undefined\") {require.undef(\"nbextensions/vpython_libraries/glowcomm\");}else{element.textContent = ' ';}"
      ],
      "text/plain": [
       "<IPython.core.display.Javascript object>"
      ]
     },
     "metadata": {},
     "output_type": "display_data"
    },
    {
     "data": {
      "application/javascript": [
       "if (typeof Jupyter !== \"undefined\") {require.undef(\"nbextensions/vpython_libraries/jquery-ui.custom.min\");}else{element.textContent = ' ';}"
      ],
      "text/plain": [
       "<IPython.core.display.Javascript object>"
      ]
     },
     "metadata": {},
     "output_type": "display_data"
    },
    {
     "data": {
      "application/javascript": [
       "if (typeof Jupyter !== \"undefined\") {require([\"nbextensions/vpython_libraries/glow.min\"], function(){console.log(\"GLOW LOADED\");});}else{element.textContent = ' ';}"
      ],
      "text/plain": [
       "<IPython.core.display.Javascript object>"
      ]
     },
     "metadata": {},
     "output_type": "display_data"
    },
    {
     "data": {
      "application/javascript": [
       "if (typeof Jupyter !== \"undefined\") {require([\"nbextensions/vpython_libraries/glowcomm\"], function(){console.log(\"GLOWCOMM LOADED\");});}else{element.textContent = ' ';}"
      ],
      "text/plain": [
       "<IPython.core.display.Javascript object>"
      ]
     },
     "metadata": {},
     "output_type": "display_data"
    },
    {
     "data": {
      "application/javascript": [
       "if (typeof Jupyter !== \"undefined\") {require([\"nbextensions/vpython_libraries/jquery-ui.custom.min\"], function(){console.log(\"JQUERY LOADED\");});}else{element.textContent = ' ';}"
      ],
      "text/plain": [
       "<IPython.core.display.Javascript object>"
      ]
     },
     "metadata": {},
     "output_type": "display_data"
    }
   ],
   "source": [
    "for c in range(0, len(data)):\n",
    "    x = []\n",
    "    y = []\n",
    "    z = []\n",
    "    for i in range(0, 11):\n",
    "        x1,y1,z1 = 200.0*data.iloc[c][3*i:3*i+3] #iloc : 複数の要素の値を指定してデータを取り出す\n",
    "        x.append(x1)\n",
    "        y.append(y1)\n",
    "        z.append(z1)\n",
    "     \n",
    "    vp.box(pos=vp.vec(x[0],y[0],z[0]), color=vp.color.blue)\n",
    "    c1,c2,c3 = cm.summer(c/10000.0)[:3]\n",
    "    t1,t2,t3 = cm.autumn(c/10000.0)[:3]\n",
    "    \n",
    "    for j in range(1, 11):\n",
    "        \n",
    "        if(j%2==0):\n",
    "            vp.box(pos=vp.vec(x[j],y[j],z[j]), color=vp.vec(c1,c2,c3))\n",
    "        else:\n",
    "            vp.box(pos=vp.vec(x[j],y[j],z[j]), color=vp.vec(t1, t2, t3))\n",
    "     "
   ]
  },
  {
   "cell_type": "code",
   "execution_count": null,
   "metadata": {},
   "outputs": [],
   "source": []
  }
 ],
 "metadata": {
  "kernelspec": {
   "display_name": "Python 3",
   "language": "python",
   "name": "python3"
  },
  "language_info": {
   "codemirror_mode": {
    "name": "ipython",
    "version": 3
   },
   "file_extension": ".py",
   "mimetype": "text/x-python",
   "name": "python",
   "nbconvert_exporter": "python",
   "pygments_lexer": "ipython3",
   "version": "3.8.8"
  }
 },
 "nbformat": 4,
 "nbformat_minor": 4
}
