{
 "cells": [
  {
   "cell_type": "markdown",
   "metadata": {},
   "source": [
    "# 10000stepの10回分の平均座標からドット積を求める"
   ]
  },
  {
   "cell_type": "markdown",
   "metadata": {},
   "source": [
    "### モジュールのインストール"
   ]
  },
  {
   "cell_type": "code",
   "execution_count": 2,
   "metadata": {},
   "outputs": [
    {
     "data": {
      "text/html": [
       "<div id=\"glowscript\" class=\"glowscript\"></div>"
      ],
      "text/plain": [
       "<IPython.core.display.HTML object>"
      ]
     },
     "metadata": {},
     "output_type": "display_data"
    },
    {
     "data": {
      "application/javascript": [
       "if (typeof Jupyter !== \"undefined\") { window.__context = { glowscript_container: $(\"#glowscript\").removeAttr(\"id\")};}else{ element.textContent = ' ';}"
      ],
      "text/plain": [
       "<IPython.core.display.Javascript object>"
      ]
     },
     "metadata": {},
     "output_type": "display_data"
    }
   ],
   "source": [
    "#from vpython import *\n",
    "#GlowScript 3.0 VPython\n",
    "import vpython as vp\n",
    "import pandas as pd\n",
    "import matplotlib.cm as cm\n",
    "import matplotlib.pyplot as plt\n",
    "import math\n",
    "import numpy as np\n",
    "import csv\n",
    "import scipy as sp\n",
    "from scipy.optimize import curve_fit\n",
    "import math\n",
    "import numexpr as ne"
   ]
  },
  {
   "cell_type": "markdown",
   "metadata": {},
   "source": [
    "### キャプションの追加"
   ]
  },
  {
   "cell_type": "code",
   "execution_count": 3,
   "metadata": {},
   "outputs": [
    {
     "ename": "NameError",
     "evalue": "name 'vs' is not defined",
     "output_type": "error",
     "traceback": [
      "\u001b[0;31m---------------------------------------------------------------------------\u001b[0m",
      "\u001b[0;31mNameError\u001b[0m                                 Traceback (most recent call last)",
      "\u001b[0;32m<ipython-input-3-ed95024b0db1>\u001b[0m in \u001b[0;36m<module>\u001b[0;34m\u001b[0m\n\u001b[1;32m      5\u001b[0m   \u001b[0mOn\u001b[0m \u001b[0ma\u001b[0m \u001b[0mtwo\u001b[0m\u001b[0;34m-\u001b[0m\u001b[0mbutton\u001b[0m \u001b[0mmouse\u001b[0m\u001b[0;34m,\u001b[0m \u001b[0mmiddle\u001b[0m \u001b[0;32mis\u001b[0m \u001b[0mleft\u001b[0m \u001b[0;34m+\u001b[0m \u001b[0mright\u001b[0m\u001b[0;34m.\u001b[0m\u001b[0;34m\u001b[0m\u001b[0;34m\u001b[0m\u001b[0m\n\u001b[1;32m      6\u001b[0m \u001b[0mTo\u001b[0m \u001b[0mpan\u001b[0m \u001b[0mleft\u001b[0m\u001b[0;34m/\u001b[0m\u001b[0mright\u001b[0m \u001b[0;32mand\u001b[0m \u001b[0mup\u001b[0m\u001b[0;34m/\u001b[0m\u001b[0mdown\u001b[0m\u001b[0;34m,\u001b[0m \u001b[0mShift\u001b[0m\u001b[0;34m-\u001b[0m\u001b[0mdrag\u001b[0m\u001b[0;34m.\u001b[0m\u001b[0;34m\u001b[0m\u001b[0;34m\u001b[0m\u001b[0m\n\u001b[0;32m----> 7\u001b[0;31m Touch screen: pinch/extend to zoom, swipe or two-finger rotate.\"\"\"\n\u001b[0m\u001b[1;32m      8\u001b[0m \u001b[0;34m\u001b[0m\u001b[0m\n\u001b[1;32m      9\u001b[0m \u001b[0mvp\u001b[0m\u001b[0;34m.\u001b[0m\u001b[0mscene\u001b[0m\u001b[0;34m.\u001b[0m\u001b[0mbackground\u001b[0m \u001b[0;34m=\u001b[0m \u001b[0mvp\u001b[0m\u001b[0;34m.\u001b[0m\u001b[0mcolor\u001b[0m\u001b[0;34m.\u001b[0m\u001b[0mwhite\u001b[0m\u001b[0;34m\u001b[0m\u001b[0;34m\u001b[0m\u001b[0m\n",
      "\u001b[0;31mNameError\u001b[0m: name 'vs' is not defined"
     ]
    }
   ],
   "source": [
    "vs.scene.caption = \"\"\"<b>3D text can be \"billboard\" text -- always facing you.</b>\n",
    "Note that the \"Regular text\" has different colors on the front, back and sides.\n",
    "To rotate \"camera\", drag with right button or Ctrl-drag.\n",
    "To zoom, drag with middle button or Alt/Option depressed, or use scroll wheel.\n",
    "  On a two-button mouse, middle is left + right.\n",
    "To pan left/right and up/down, Shift-drag.\n",
    "Touch screen: pinch/extend to zoom, swipe or two-finger rotate.\"\"\"\n",
    "   \n",
    "vp.scene.background = vp.color.white"
   ]
  },
  {
   "cell_type": "markdown",
   "metadata": {},
   "source": [
    "### 座標に名前をつける"
   ]
  },
  {
   "cell_type": "code",
   "execution_count": null,
   "metadata": {},
   "outputs": [],
   "source": [
    "names = ['step']\n",
    "for i in range(1,12):\n",
    "    names+=['x'+str(i),'y'+str(i),'z'+str(i)]\n",
    "#print(names)\n",
    "data = pd.read_csv(\"my_output.txt\",sep=\" \",index_col=0,header = None,names=names )\n",
    "\n",
    "#index_col=0 →indexとして使いたい列の列番号を0始まりで指定する。\n",
    "#特定の列だけを読み込む場合、引数usecolsを使う。\n",
    "#カラム名を指定したいときはnames引数で指定\n",
    "#csvファイルの中身を読み込んだDataFrameまたはテキストパーサーが返される。"
   ]
  },
  {
   "cell_type": "markdown",
   "metadata": {},
   "source": [
    "## timestepが10000における10回分の平均座標を求める"
   ]
  },
  {
   "cell_type": "markdown",
   "metadata": {},
   "source": [
    "### 読み込んだデータの確認"
   ]
  },
  {
   "cell_type": "code",
   "execution_count": null,
   "metadata": {},
   "outputs": [],
   "source": [
    "data"
   ]
  },
  {
   "cell_type": "markdown",
   "metadata": {},
   "source": [
    "### タイムステップが9999のときだけ取り出す"
   ]
  },
  {
   "cell_type": "code",
   "execution_count": null,
   "metadata": {},
   "outputs": [],
   "source": [
    "data.loc[9999]\n",
    "#loc：行と列のラベル名を指定して1つの要素、もしくは範囲を指定して複数の要素を参照する"
   ]
  },
  {
   "cell_type": "markdown",
   "metadata": {},
   "source": [
    "### ドット積を求める"
   ]
  },
  {
   "cell_type": "code",
   "execution_count": null,
   "metadata": {},
   "outputs": [],
   "source": [
    "all_products = []\n",
    "for line in data.loc[9999].to_numpy():\n",
    "    temp = []\n",
    "    x0 = line[3:6]-line[0:3]\n",
    "    x0 /= np.linalg.norm(x0)\n",
    "    for index in range(int(len(line)/3)-1):\n",
    "        xn = line[index*3+3:index*3+6]-line[index*3:index*3+3]\n",
    "        xn /= np.linalg.norm(xn) #numpy.linalg.norm(x) xはノルムの値を求めるための入力配列\n",
    "        temp.append(np.dot(x0,xn)) #np.dot ベクトルの内積を求める\n",
    "    all_products.append(temp)\n",
    "all_products = np.array(all_products)"
   ]
  },
  {
   "cell_type": "code",
   "execution_count": null,
   "metadata": {},
   "outputs": [],
   "source": [
    "avg = all_products.sum(axis=0)/10.0 \n",
    "#np.sum(axis = NONE):ndarrayの全要素を足し合わせる\n",
    "#axis:どの軸方向に要素を足し合わせていくかを指定。Noneの時は全ての要素を足し合わせる。"
   ]
  },
  {
   "cell_type": "code",
   "execution_count": null,
   "metadata": {},
   "outputs": [],
   "source": [
    "print(avg)\n",
    "print(avg[0])\n",
    "print(avg[9])"
   ]
  },
  {
   "cell_type": "code",
   "execution_count": null,
   "metadata": {},
   "outputs": [],
   "source": [
    "plt.plot(avg)\n",
    "#plt.yscale('log')\n",
    "plt.show()"
   ]
  },
  {
   "cell_type": "markdown",
   "metadata": {},
   "source": [
    "### ドット積の結果をファイルに出力し、読み込む"
   ]
  },
  {
   "cell_type": "code",
   "execution_count": null,
   "metadata": {},
   "outputs": [],
   "source": [
    "with open(\"dot_average.txt\", mode='w') as f:\n",
    "    for num in range(10):       \n",
    "        f.write(str(num) + \" \" + str(avg[num])+ \"\\n\")\n",
    "f.close()\n",
    "data2 = pd.read_csv(\"dot_average.txt\",sep = \" \",header = None, index_col = 0)"
   ]
  },
  {
   "cell_type": "markdown",
   "metadata": {},
   "source": [
    "### 持続長の定義"
   ]
  },
  {
   "cell_type": "code",
   "execution_count": null,
   "metadata": {},
   "outputs": [],
   "source": [
    "def exponential(x,a,b):\n",
    "    return a*np.exp(-x / b)"
   ]
  },
  {
   "cell_type": "markdown",
   "metadata": {},
   "source": [
    "### シミュレーション結果を用いて、持続長の公式における最適な係数を求める"
   ]
  },
  {
   "cell_type": "code",
   "execution_count": null,
   "metadata": {},
   "outputs": [],
   "source": [
    "popt, pcov = curve_fit(exponential, data2.index.to_numpy(), data2[1])\n",
    "#poptは最適推定値、pcovは共分散\n",
    "#curve_fit(f, xdata, ydata, p0=None, sigma=None, absolute_sigma=False, check_finite=True, bounds=- inf, inf, method=None, jac=None, **kwargs)\n",
    "print(popt[0]) #aの値\n",
    "print(popt[1]) #bの値"
   ]
  },
  {
   "cell_type": "code",
   "execution_count": null,
   "metadata": {
    "scrolled": true
   },
   "outputs": [],
   "source": [
    "fig = plt.figure()\n",
    "ax = fig.add_subplot(111, xlabel='k', ylabel='<nkn0>')\n",
    "\n",
    "ax.plot(data2[1], \"r\", label = \"Simulation data\")\n",
    "ax.plot(exponential(data2.index.to_numpy(),*popt), \"b\", label = \"Exponential fit: \" + str(round(popt[0],2)) + \"exp(-k/\" + str(round(popt[1],2))+ \")\")\n",
    "ax.plot(xlabel='k', ylabel='$<n_k$・$n_0>$')\n",
    "ax.legend(bbox_to_anchor=(1, 1), loc='upper right', borderaxespad=0, fontsize=10)\n",
    "fig.savefig('persistence_sample.png')"
   ]
  },
  {
   "cell_type": "markdown",
   "metadata": {},
   "source": [
    "### ボクセル の表示"
   ]
  },
  {
   "cell_type": "code",
   "execution_count": null,
   "metadata": {},
   "outputs": [],
   "source": [
    "#for c in range(len(data)-10, len(data)):\n",
    "#print(data3)\n",
    "for c in range(0, len(data)):\n",
    "    x1,y1,z1 = 200.0*data.iloc[c][0:3] #iloc : 複数の要素の値を指定してデータを取り出す\n",
    "    x2,y2,z2 = 200.0*data.iloc[c][3:6]\n",
    "    x3,y3,z3 = 200.0*data.iloc[c][6:9] \n",
    "    x4,y4,z4 = 200.0*data.iloc[c][9:12] \n",
    "    x5,y5,z5 = 200.0*data.iloc[c][12:15]\n",
    "    x6,y6,z6 = 200.0*data.iloc[c][15:18] \n",
    "    x7,y7,z7 = 200.0*data.iloc[c][18:21] \n",
    "    x8,y8,z8 = 200.0*data.iloc[c][21:24]\n",
    "    x9,y9,z9 = 200.0*data.iloc[c][24:27] \n",
    "    x10,y10,z10 = 200.0*data.iloc[c][27:30]\n",
    "    x11,y11,z11 = 200.0*data.iloc[c][30:33]\n",
    "     \n",
    "    vs.box(pos=vs.vec(x1,y1,z1), color=vs.color.blue)\n",
    "    c1,c2,c3 = cm.summer(c/10000.0)[:3]\n",
    "    t1,t2,t3 = cm.autumn(c/10000.0)[:3]\n",
    "    \n",
    "    vp.box(pos=vp.vec(x2,y2,z2), color=vp.vec(c1,c2,c3))\n",
    "    vp.box(pos=vp.vec(x3,y3,z3), color=vp.vec(t1, t2, t3))\n",
    "    vp.box(pos=vp.vec(x4,y4,z4), color=vp.vec(c1,c2,c3))\n",
    "    vp.box(pos=vp.vec(x5,y5,z5), color=vp.vec(t1, t2, t3))\n",
    "    vp.box(pos=vp.vec(x6,y6,z6), color=vp.vec(c1, c2, c3))\n",
    "    vp.box(pos=vp.vec(x7,y7,z7), color=vp.vec(t1, t2, t3))\n",
    "    vp.box(pos=vp.vec(x8,y8,z8), color=vp.vec(c1,c2,c3))\n",
    "    vp.box(pos=vp.vec(x9,y9,z9), color=vp.vec(t1, t2, t3))\n",
    "    vp.box(pos=vp.vec(x10,y10,z10), color=vp.vec(c1, c2, c3))\n",
    "    vp.box(pos=vp.vec(x11,y11,z11), color=vp.vec(t1, t2, t3))"
   ]
  },
  {
   "cell_type": "code",
   "execution_count": null,
   "metadata": {},
   "outputs": [],
   "source": []
  }
 ],
 "metadata": {
  "kernelspec": {
   "display_name": "Python 3",
   "language": "python",
   "name": "python3"
  },
  "language_info": {
   "codemirror_mode": {
    "name": "ipython",
    "version": 3
   },
   "file_extension": ".py",
   "mimetype": "text/x-python",
   "name": "python",
   "nbconvert_exporter": "python",
   "pygments_lexer": "ipython3",
   "version": "3.7.6"
  }
 },
 "nbformat": 4,
 "nbformat_minor": 4
}
